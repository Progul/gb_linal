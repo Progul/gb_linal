{
 "cells": [
  {
   "cell_type": "code",
   "execution_count": 11,
   "id": "f11710f4",
   "metadata": {},
   "outputs": [],
   "source": [
    "import numpy as np"
   ]
  },
  {
   "cell_type": "markdown",
   "id": "8f6190c1",
   "metadata": {},
   "source": [
    "### Практическое задание 1"
   ]
  },
  {
   "cell_type": "markdown",
   "id": "c0adeeca",
   "metadata": {},
   "source": [
    "__1.__ Исследовать на линейную зависимость:\n",
    "### $$f_{1}(x)=e^{x}, f_{2}(x)=1, f_{3}(x)=x+1, f_{4}(x)=x-e^{x}.$$"
   ]
  },
  {
   "cell_type": "markdown",
   "id": "0c3f08f9",
   "metadata": {},
   "source": [
    "Заметим, что $x-e^x=-(e^x)-(1)+(x+1)$, т.е. $f_{4}(x)=-f_{1}(x)-f_{2}(x)+f_{3}(x)$, поскольку мы можем выразить один вектор, через линейную комбинацию остальных, $\\Rightarrow$ данные векторы **линейно зависимы**.\""
   ]
  },
  {
   "cell_type": "markdown",
   "id": "d64ac6f2",
   "metadata": {},
   "source": [
    "__2.__ Исследовать на линейную зависимость:\n",
    "### $$f_{1}(x)=2, f_{2}(x)=x, f_{3}(x)=x^{2}, f_{4}(x)=(x+1)^{2}.$$"
   ]
  },
  {
   "cell_type": "markdown",
   "id": "7898350e",
   "metadata": {},
   "source": [
    "Вектор $f_{4}(x)=(x+1)^2$  можем представить как: $f_{4}(x)=(x+1)^2=x^2+2\\cdot x+1=f_3(x)+2\\cdot f_{2}(x)+0.5\\cdot f_{1}(x)$, поскольку мы можем выразить один вектор, через линейную комбинацию остальных, $\\Rightarrow$ данные векторы **линейно зависимы**.\""
   ]
  },
  {
   "cell_type": "markdown",
   "id": "44870a63",
   "metadata": {},
   "source": [
    "__3.__ Найти координаты вектора $x = (2, 3, 5)\\in \\mathbb{R}^{3}$ в базисе $b_{1}=(0, 0, 10)$, $b_{2}=(2, 0, 0)$, $b_{3}=(0, 1, 0)$."
   ]
  },
  {
   "cell_type": "markdown",
   "id": "ba52424e",
   "metadata": {},
   "source": [
    "$x = (2, 3, 5)=1\\cdot (2, 0, 0)+3\\cdot (0, 1, 0)+0.5\\cdot (0, 0, 10)=0.5\\cdot b_{1}+b_{2}+3\\cdot b_{3}$,\n",
    "    то есть координаты вектора $x$ в заданном базисе $b_{1}=(0, 0, 10)$, $b_{2}=(2, 0, 0)$, $b_{3}=(0, 1, 0)$ : $(0.5, 1, 3)$"
   ]
  },
  {
   "cell_type": "markdown",
   "id": "4e3a96e2",
   "metadata": {},
   "source": [
    "__4.__ Найти координаты вектора $3x^{2}-2x+2\\in\\mathbb{R}^{3}[x]$:\n",
    "\n",
    "   а) в базисе $1$, $x$, $x^{2}$;\n",
    "   б) в базисе $x^{2}$, $x-1$, $1$."
   ]
  },
  {
   "cell_type": "markdown",
   "id": "ed1919ab",
   "metadata": {},
   "source": [
    "a) Разложим вектор $3x^{2}-2x+2$ по базису $1$, $x$, $x^{2}$:\n",
    "    $3x^{2}-2x+2=a\\cdot 1+b\\cdot x+c\\cdot x^2$, где $a$, $b$, и $c$ - в заданном базисе.\n",
    "    $3x^{2}-2x+2-a\\cdot 1-b\\cdot x-c\\cdot x^2=0$ \n",
    "    $(c-3)\\cdot x^{2}+(b+2)\\cdot x+(a-2)=0$ \n",
    "    Поскольку базис пространства - система **линейно независимых** векторов, то получим следующую систему уравнений:  \n",
    "    $\\begin{cases} c-3=0\\\\\\\\b+2=0\\\\\\\\a-2=0\\end{cases}$ \n",
    "    Соответственно: \n",
    "    $a=2\\\\\\\\b=-2\\\\\\\\c=3$ \n",
    "    Проверим: \n",
    "    $2\\cdot 1+(-2)\\cdot x+3\\cdot x^2=3x^{2}-2x+2$ получили наш исходный вектор,\n",
    "    $\\Rightarrow$ Координаты вектора $3x^{2}-2x+2$ в базисе $1$, $x$, $x^{2}$ : $(2,-2,3)$ \n",
    "\n",
    "б) Разложим вектор $3x^{2}-2x+2$ по базису $x^{2}$, $x-1$, $1$: \n",
    "    $3x^{2}-2x+2=a\\cdot x^{2}+b\\cdot (x-1)+c\\cdot 1$ \n",
    "    $a\\cdot x^{2}+b\\cdot (x-1)+c\\cdot 1-3x^{2}+2x-2=0$ \n",
    "    $(a-3)\\cdot x^{2}+(b+2)\\cdot x+(c-b-2)=0$ \n",
    "    $\\begin{cases}a-3=0\\\\\\\\b+2=0\\\\\\\\c-b-2=0\\end{cases}$ \n",
    "    Соответственно:\n",
    "    $a=3\\\\\\\\b=-2\\\\\\\\c=0$ \n",
    "    Проверим: \n",
    "    $3\\cdot x^{2}+(-2)\\cdot(x-1)+0\\cdot 1=3x^{2}-2x+2+0=3x^{2}-2x+2$ получили наш исходный вектор,\n",
    "    $\\Rightarrow$ Координаты вектора $3x^{2}-2x+2$ в базисе $x^{2}$, $x-1$, $1$ : $(3,-2,0)$ "
   ]
  },
  {
   "cell_type": "markdown",
   "id": "d196a7a8",
   "metadata": {},
   "source": [
    "### Практическое задание 2"
   ]
  },
  {
   "cell_type": "markdown",
   "id": "2c3a16ee",
   "metadata": {},
   "source": [
    "__1.__ Найти скалярное произведение векторов $x, y \\in \\mathbb{R}$:<br>\n",
    "а) $x=(0,-3, 6),~y=(-4, 7, 9);$<br>\n",
    "б) $x=(7, -4, 0, 1),~y=(-3, 1, 11, 2).$"
   ]
  },
  {
   "cell_type": "markdown",
   "id": "fcf0e26b",
   "metadata": {},
   "source": [
    "Опираясь на формулу скалярного произведения векторов: \n",
    "    $(x,y)=a_{1}b_{1}+a_{2}b_{2}+...+a_{n}b_{n}$\n",
    "    Напишем функцию:  "
   ]
  },
  {
   "cell_type": "code",
   "execution_count": 6,
   "id": "966078d0",
   "metadata": {},
   "outputs": [],
   "source": [
    "def scalar(vec1, vec2):\n",
    "        assert len(vec1)==len(vec2), 'Вектора должны иметь одинаковую размернность!'\n",
    "        result=0\n",
    "        for i in range(len(vec1)):\n",
    "            result+=vec1[i]*vec2[i]\n",
    "        return result"
   ]
  },
  {
   "cell_type": "markdown",
   "id": "f6dba6d0",
   "metadata": {},
   "source": [
    "a)"
   ]
  },
  {
   "cell_type": "markdown",
   "id": "e1504a44",
   "metadata": {},
   "source": [
    "Скалярное произведение векторов $[0, -3, 6]$ и $[-4, 7, 9]$:"
   ]
  },
  {
   "cell_type": "code",
   "execution_count": 7,
   "id": "0b2d7b88",
   "metadata": {},
   "outputs": [
    {
     "name": "stdout",
     "output_type": "stream",
     "text": [
      "Скалярное произведение векторов [0, -3, 6] и [-4, 7, 9]: 33\n"
     ]
    }
   ],
   "source": [
    "x=[0,-3,6]\n",
    "y=[-4,7,9]\n",
    "print(f'Скалярное произведение векторов {x} и {y}: {scalar(x,y)}')"
   ]
  },
  {
   "cell_type": "markdown",
   "id": "421146da",
   "metadata": {},
   "source": [
    "б)"
   ]
  },
  {
   "cell_type": "markdown",
   "id": "ccdc2718",
   "metadata": {},
   "source": [
    "Скалярное произведение векторов $[7, -4, 0, 1]$ и $[-3, 1, 11, 2]$:"
   ]
  },
  {
   "cell_type": "code",
   "execution_count": 9,
   "id": "24826d99",
   "metadata": {},
   "outputs": [
    {
     "name": "stdout",
     "output_type": "stream",
     "text": [
      "Скалярное произведение векторов [7, -4, 0, 1] и [-3, 1, 11, 2]: -23\n"
     ]
    }
   ],
   "source": [
    "print(f'Скалярное произведение векторов {[7,-4,0,1]} и {[-3,1,11,2]}: {scalar([7,-4,0,1],[-3,1,11,2])}')"
   ]
  },
  {
   "cell_type": "markdown",
   "id": "755922c0",
   "metadata": {},
   "source": [
    "Проверка с NumPy"
   ]
  },
  {
   "cell_type": "code",
   "execution_count": 12,
   "id": "7a67370d",
   "metadata": {},
   "outputs": [
    {
     "data": {
      "text/plain": [
       "-23"
      ]
     },
     "execution_count": 12,
     "metadata": {},
     "output_type": "execute_result"
    }
   ],
   "source": [
    "np.dot(np.array([7, -4, 0, 1]), np.array([-3, 1, 11, 2]))"
   ]
  },
  {
   "cell_type": "markdown",
   "id": "fa7075c9",
   "metadata": {},
   "source": [
    "__2.__ Найти нормы векторов $(4, 2, 4)$ и $(12, 3, 4)$ и угол между ними."
   ]
  },
  {
   "cell_type": "markdown",
   "id": "7e85fc2a",
   "metadata": {},
   "source": [
    "Напишем функции для расчета **манхеттенской** нормы, по формуле:\n",
    "    $\\left\\|x\\right\\|_{1} = \\sum_{i}|x_{i}|$;\n",
    "    и **евклидовой** нормы, по формуле:  \n",
    "    $\\left\\|x\\right\\|_{2} = \\sqrt{\\sum_{i}|x_{i}|^{2}}$.\n",
    "    А так же угла между ними, по формуле:  \n",
    "    $cos\\varphi = \\frac{(x,y)}{\\left \\|x\\right \\|\\cdot\\left \\|y\\right \\|}$"
   ]
  },
  {
   "cell_type": "markdown",
   "id": "b82837e0",
   "metadata": {},
   "source": [
    "### Манхеттенская норма вектора"
   ]
  },
  {
   "cell_type": "code",
   "execution_count": 14,
   "id": "6e6be3eb",
   "metadata": {},
   "outputs": [],
   "source": [
    "def manhattan(vec):\n",
    "    norm=0\n",
    "    for i in vec:\n",
    "        norm+=i if i>0 else -i\n",
    "    return norm    "
   ]
  },
  {
   "cell_type": "markdown",
   "id": "0dc2c4ae",
   "metadata": {},
   "source": [
    "### Евклидова норма вектора"
   ]
  },
  {
   "cell_type": "code",
   "execution_count": 16,
   "id": "c08a0844",
   "metadata": {},
   "outputs": [],
   "source": [
    "def euclid(vec):\n",
    "    norm=0\n",
    "    for i in vec:\n",
    "        norm+=i**2\n",
    "    return norm**0.5"
   ]
  },
  {
   "cell_type": "markdown",
   "id": "ce0c09e7",
   "metadata": {},
   "source": [
    "Угол между векторами(возвращает значение угла между векторами в радианах)"
   ]
  },
  {
   "cell_type": "code",
   "execution_count": 18,
   "id": "64c13152",
   "metadata": {},
   "outputs": [],
   "source": [
    "from math import acos\n",
    "def angle_between(vec1, vec2):\n",
    "    scalar_vec, n_vec1, n_vec2 = 0,0,0\n",
    "    for i,j in zip(vec1,vec2):\n",
    "        scalar_vec+=i*j\n",
    "        n_vec1+=i**2\n",
    "        n_vec2+=j**2\n",
    "    return round(acos(scalar_vec/((n_vec1**0.5)*(n_vec2**0.5))),2) "
   ]
  },
  {
   "cell_type": "markdown",
   "id": "c7e5c299",
   "metadata": {},
   "source": [
    "Для вектора $х=(4,2,4)$, манхеттенская норма $||x||_1=10$, евклидова $||x||_2=6.0$,\n",
    "Для вектора $y=(12,3,4)$, манхеттенская норма $||y||_1=19$, евклидова $||y||_2=13.0$\n",
    "Угол между векторами $х=(4,2,4)$ и $y=(12,3,4): 0.46$ радиан."
   ]
  },
  {
   "cell_type": "code",
   "execution_count": 24,
   "id": "d6e7b342",
   "metadata": {},
   "outputs": [
    {
     "name": "stdout",
     "output_type": "stream",
     "text": [
      "Для вектора х=(4,2,4) манхеттенская норма ||x||_1=10, евклидова ||x||_2=6.0\n",
      "Для вектора y=(12,3,4) манхеттенская норма ||y||_1=19, евклидова ||y||_2=13.0\n",
      "Угол между векторами х=(4,2,4) и y=(12,3,4):0.46 радиан.\n"
     ]
    }
   ],
   "source": [
    "x=np.array([4,2,4])\n",
    "y=np.array([12,3,4])\n",
    "print(f'Для вектора х=(4,2,4) манхеттенская норма ||x||_1={manhattan(x)}, евклидова ||x||_2={euclid(x)}')\n",
    "print(f'Для вектора y=(12,3,4) манхеттенская норма ||y||_1={manhattan(y)}, евклидова ||y||_2={euclid(y)}')\n",
    "print(f'Угол между векторами х=(4,2,4) и y=(12,3,4):{angle_between(x, y)} радиан.')"
   ]
  },
  {
   "cell_type": "markdown",
   "id": "4c34ef24",
   "metadata": {},
   "source": [
    "Проверим с помощью методов модуля *linalg* библиотеки numpy:"
   ]
  },
  {
   "cell_type": "markdown",
   "id": "23bfff19",
   "metadata": {},
   "source": [
    "Для вектора $х=(4,2,4)$ манхеттенская норма $||x||_1=10.0$, евклидова $||x||_2=6.0$\n",
    "Для вектора $y=(12,3,4)$ манхеттенская норма $||y||_1=19.0$, евклидова $||y||_2=13.0$\n",
    "Угол между векторами $х=(4,2,4)$ и $y=(12,3,4)$: 0.45687400353266105 радиан"
   ]
  },
  {
   "cell_type": "code",
   "execution_count": 25,
   "id": "a9be7562",
   "metadata": {},
   "outputs": [
    {
     "name": "stdout",
     "output_type": "stream",
     "text": [
      "Для вектора х=(4,2,4) манхеттенская норма ||x||_1=10.0, евклидова ||x||_2=6.0 Для вектора y=(12,3,4) манхеттенская норма ||y||_1=19.0, евклидова ||y||_2=13.0 Угол между векторами х=(4,2,4) и y=(12,3,4): 0.45687400353266105 радиан.\n"
     ]
    }
   ],
   "source": [
    "from numpy.linalg import norm\n",
    "print(f'Для вектора х=(4,2,4) манхеттенская норма ||x||_1={norm(x,ord=1)}, евклидова ||x||_2={norm(x, ord=2)}',\n",
    "f'Для вектора y=(12,3,4) манхеттенская норма ||y||_1={norm(y, ord=1)}, евклидова ||y||_2={norm(y, ord=2)}',\n",
    "f'Угол между векторами х=(4,2,4) и y=(12,3,4): {acos(np.dot(x, y)/(norm(x, ord=2)*norm(y, ord=2)))} радиан.')"
   ]
  }
 ],
 "metadata": {
  "kernelspec": {
   "display_name": "Python 3 (ipykernel)",
   "language": "python",
   "name": "python3"
  },
  "language_info": {
   "codemirror_mode": {
    "name": "ipython",
    "version": 3
   },
   "file_extension": ".py",
   "mimetype": "text/x-python",
   "name": "python",
   "nbconvert_exporter": "python",
   "pygments_lexer": "ipython3",
   "version": "3.10.4"
  }
 },
 "nbformat": 4,
 "nbformat_minor": 5
}
