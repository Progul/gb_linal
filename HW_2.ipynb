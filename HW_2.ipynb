{
 "cells": [
  {
   "cell_type": "markdown",
   "id": "f9faa4ec",
   "metadata": {},
   "source": [
    "# Домашнее задание 2"
   ]
  },
  {
   "cell_type": "markdown",
   "id": "b9b1e02c",
   "metadata": {},
   "source": [
    "# Первая часть"
   ]
  },
  {
   "cell_type": "code",
   "execution_count": 1,
   "id": "e2d70668",
   "metadata": {},
   "outputs": [],
   "source": [
    "import numpy as np\n",
    "import numpy.linalg"
   ]
  },
  {
   "cell_type": "markdown",
   "id": "bcdec1c0",
   "metadata": {},
   "source": [
    "### Задание №1"
   ]
  },
  {
   "cell_type": "markdown",
   "id": "c5906a24",
   "metadata": {},
   "source": [
    "а) Поскольку число столбцов матрицы $A$(2) не равно числу строк матрицы $B$ (4), $\\Rightarrow A\\cdot B\\text{ не определено}$, а поскольку число столбцов матрицы $B$ (2), так же не равно числу строк матрицы $A$ (4), $\\Rightarrow B\\cdot A\\text{ так же, не определено}$  \n",
    "\n",
    "---\n",
    "б) $A\\cdot B$ определено, полученная матрица имеет размер $2\\times 3$, $B\\cdot A\\text{ не определено}$  \n",
    "\n",
    "---  \n",
    "в) $A\\cdot B$ определено, полученная матрица имеет размер $8\\times 8$, $B\\cdot A$ определено, полученная матрица имеет размер $3\\times 3$  \n",
    "\n",
    "---  \n",
    "г) $A\\cdot B$ и $B\\cdot A$ определены и полученные матрицы имеют размер $4\\times 4$.  \n",
    "\n",
    "---"
   ]
  },
  {
   "cell_type": "markdown",
   "id": "602dd54e",
   "metadata": {},
   "source": [
    "### Задание 2"
   ]
  },
  {
   "cell_type": "markdown",
   "id": "15d8d1df",
   "metadata": {},
   "source": [
    "#### Сумма"
   ]
  },
  {
   "cell_type": "markdown",
   "id": "41b89871",
   "metadata": {},
   "source": [
    "$A+B=\\begin{pmatrix}1+4 & -2+(-1)\\\\3+0 & 0+5\\end{pmatrix}=\\begin{pmatrix}5 & -3\\\\3 & 5\\end{pmatrix}$"
   ]
  },
  {
   "cell_type": "markdown",
   "id": "8ce9bd65",
   "metadata": {},
   "source": [
    "**numpy:**  "
   ]
  },
  {
   "cell_type": "code",
   "execution_count": 4,
   "id": "e884b446",
   "metadata": {},
   "outputs": [],
   "source": [
    "A=np.array([[1,-2],[3,0]])\n",
    "B=np.array([[4,-1],[0,5]])"
   ]
  },
  {
   "cell_type": "code",
   "execution_count": 5,
   "id": "b74ec3ef",
   "metadata": {},
   "outputs": [
    {
     "data": {
      "text/plain": [
       "array([[ 5, -3],\n",
       "       [ 3,  5]])"
      ]
     },
     "execution_count": 5,
     "metadata": {},
     "output_type": "execute_result"
    }
   ],
   "source": [
    "A+B"
   ]
  },
  {
   "cell_type": "markdown",
   "id": "747ae8b8",
   "metadata": {},
   "source": [
    "#### Произведение"
   ]
  },
  {
   "cell_type": "markdown",
   "id": "4d31f0a2",
   "metadata": {},
   "source": [
    "---  \n",
    "$A\\cdot B=\\begin{pmatrix}1 & -2\\\\3 & 0\\end{pmatrix}\\cdot \\begin{pmatrix}4 & -1\\\\0 & 5\\end{pmatrix}=\\begin{pmatrix}1\\cdot 4+(-2)\\cdot 0 & 1\\cdot -1+(-2)\\cdot 5\\\\3\\cdot 4+0\\cdot 0 & 3\\cdot -1 +0\\cdot 5\\end{pmatrix}=\\begin{pmatrix}4 & -11\\\\12 & -3\\end{pmatrix}$  \n",
    "\n",
    "---\n",
    "$B\\cdot A=\\begin{pmatrix}4 & -1\\\\0 & 5\\end{pmatrix}\\cdot\\begin{pmatrix}1 & -2\\\\3 & 0\\end{pmatrix} =\\begin{pmatrix}4\\cdot 1+(-1)\\cdot 3 & 4\\cdot -2+(-1)\\cdot 0\\\\0\\cdot 1+5\\cdot 3 & 0\\cdot -2 +5\\cdot 0\\end{pmatrix}=\\begin{pmatrix}1 & -8\\\\15 & 0\\end{pmatrix}$  \n",
    "\n"
   ]
  },
  {
   "cell_type": "markdown",
   "id": "e16181c9",
   "metadata": {},
   "source": [
    "**numpy:**"
   ]
  },
  {
   "cell_type": "code",
   "execution_count": 6,
   "id": "4fff0090",
   "metadata": {},
   "outputs": [
    {
     "data": {
      "text/plain": [
       "array([[  4, -11],\n",
       "       [ 12,  -3]])"
      ]
     },
     "execution_count": 6,
     "metadata": {},
     "output_type": "execute_result"
    }
   ],
   "source": [
    "A@B"
   ]
  },
  {
   "cell_type": "code",
   "execution_count": 7,
   "id": "4c8cf89a",
   "metadata": {},
   "outputs": [
    {
     "data": {
      "text/plain": [
       "array([[ 1, -8],\n",
       "       [15,  0]])"
      ]
     },
     "execution_count": 7,
     "metadata": {},
     "output_type": "execute_result"
    }
   ],
   "source": [
    "B@A"
   ]
  },
  {
   "cell_type": "markdown",
   "id": "ff8e8b2e",
   "metadata": {},
   "source": [
    "### Задание 3"
   ]
  },
  {
   "cell_type": "markdown",
   "id": "8a0d8d6e",
   "metadata": {},
   "source": [
    "$3A-2B+4C=3\\cdot \\begin{pmatrix}1 & 7\\\\3 & -6\\end{pmatrix}-2\\cdot \\begin{pmatrix}0 & 5\\\\2 & -1\\end{pmatrix}+4\\cdot \\begin{pmatrix}2 & -4\\\\ 1 & 1\\end{pmatrix}=\\begin{pmatrix}1\\cdot 3 & 7\\cdot 3\\\\3\\cdot 3 & -6\\cdot 3\\end{pmatrix}-\\begin{pmatrix}0\\cdot 2 & 5\\cdot 2\\\\2\\cdot 2 & -1\\cdot 2\\end{pmatrix}+\\begin{pmatrix}2\\cdot 4 & -4\\cdot 4\\\\ 1\\cdot 4 & 1\\cdot 4\\end{pmatrix}=\\begin{pmatrix}3-0+8 & 21-10-16\\\\9-4+4 & -18+2+4\\end{pmatrix}=\\begin{pmatrix}11 & -5\\\\9 & -12\\end{pmatrix}$  "
   ]
  },
  {
   "cell_type": "markdown",
   "id": "17f412f7",
   "metadata": {},
   "source": [
    "**numpy**"
   ]
  },
  {
   "cell_type": "code",
   "execution_count": 8,
   "id": "70d2b49a",
   "metadata": {},
   "outputs": [
    {
     "data": {
      "text/plain": [
       "array([[ 11,  -5],\n",
       "       [  9, -12]])"
      ]
     },
     "execution_count": 8,
     "metadata": {},
     "output_type": "execute_result"
    }
   ],
   "source": [
    "a=np.array([[1,7],[3,-6]])\n",
    "b=np.array([[0,5],[2,-1]])\n",
    "c=np.array([[2,-4],[1,1]])\n",
    "3*a-2*b+4*c"
   ]
  },
  {
   "cell_type": "markdown",
   "id": "f670f62d",
   "metadata": {},
   "source": [
    "# Вторая часть"
   ]
  },
  {
   "cell_type": "markdown",
   "id": "0579837d",
   "metadata": {},
   "source": [
    "### Задание 1"
   ]
  },
  {
   "cell_type": "markdown",
   "id": "750ba4e4",
   "metadata": {},
   "source": [
    "а) Для матрицы порядка 2:  \n",
    "$A=\\begin{pmatrix}\n",
    "a_{11} & a_{12}\\\\ \n",
    "a_{21} & a_{22}\n",
    "\\end{pmatrix}$,  \n",
    "определитель вычисляется как:  \n",
    "$detA=a_{11}a_{22} - a_{12}a_{21}$.  \n",
    "Тогда:  \n",
    "$A=\\begin{pmatrix}\n",
    "sinx & -cosx\\\\ \n",
    "cosx & sinx\n",
    "\\end{pmatrix}$  \n",
    "$detA=\\sin x \\cdot sin x - (-\\cos x)\\cdot\\cos x=\\sin^2 x + \\cos^2 x=1$"
   ]
  },
  {
   "cell_type": "code",
   "execution_count": 9,
   "id": "d3b3c717",
   "metadata": {},
   "outputs": [
    {
     "name": "stdout",
     "output_type": "stream",
     "text": [
      "0 1\n",
      "2 1\n",
      "4 1\n",
      "6 1\n",
      "8 1\n",
      "10 1\n"
     ]
    }
   ],
   "source": [
    "for x in range(0,11,2):\n",
    "    A=np.array([[np.sin(x), -np.cos(x)],[np.cos(x), np.sin(x)]])\n",
    "    print(x, round(np.linalg.det(A)))"
   ]
  },
  {
   "cell_type": "markdown",
   "id": "b0b17970",
   "metadata": {},
   "source": [
    "б)  \n",
    "$B=\\begin{pmatrix}\n",
    "4 & 2 & 3\\\\ \n",
    "0 & 5 & 1\\\\ \n",
    "0 & 0 & 9\n",
    "\\end{pmatrix}$   \n",
    "Воспользуемся свойством определителя матрицы треугольного вида:  \n",
    "**Определитель матрицы треугольного вида равен произведению элементов, стоящих на ее главной диагонали**  \n",
    "$detB=4\\cdot 5\\cdot 9=180$"
   ]
  },
  {
   "cell_type": "code",
   "execution_count": 10,
   "id": "c9ae0dc3",
   "metadata": {},
   "outputs": [
    {
     "data": {
      "text/plain": [
       "180.0"
      ]
     },
     "execution_count": 10,
     "metadata": {},
     "output_type": "execute_result"
    }
   ],
   "source": [
    "B=np.array([[4,2,3], [0,5,1],[0,0,9]])  \n",
    "np.linalg.det(B)"
   ]
  },
  {
   "cell_type": "code",
   "execution_count": 11,
   "id": "b9c78bdb",
   "metadata": {},
   "outputs": [
    {
     "data": {
      "text/plain": [
       "180.0"
      ]
     },
     "execution_count": 11,
     "metadata": {},
     "output_type": "execute_result"
    }
   ],
   "source": [
    "B=np.array([[4,2,3], [0,5,1],[0,0,9]])  \n",
    "np.linalg.det(B)"
   ]
  },
  {
   "cell_type": "markdown",
   "id": "9303cf13",
   "metadata": {},
   "source": [
    "в)  Разложим по элементам первой строки:  \n",
    "$C=\\begin{pmatrix}\n",
    "1 & 2 & 3\\\\ \n",
    "4 & 5 & 6\\\\ \n",
    "7 & 8 & 9\n",
    "\\end{pmatrix}$  \n",
    "$detC=1\\cdot\\begin{pmatrix}5 & 6\\\\8 & 9\\end{pmatrix}-2\\cdot\\begin{pmatrix}4 & 6\\\\7 & 9\\end{pmatrix}+3\\cdot\\begin{pmatrix}4 & 5\\\\7 & 8\\end{pmatrix}=1\\cdot (5\\cdot 9-6\\cdot 8)-2\\cdot (4\\cdot 9-6\\cdot 7)+3\\cdot (4\\cdot 8-5\\cdot 7)=0$"
   ]
  },
  {
   "cell_type": "code",
   "execution_count": 12,
   "id": "12e982ad",
   "metadata": {},
   "outputs": [
    {
     "data": {
      "text/plain": [
       "0.0"
      ]
     },
     "execution_count": 12,
     "metadata": {},
     "output_type": "execute_result"
    }
   ],
   "source": [
    "C=np.array([[1,2,3], [4,5,6],[7,8,9]])  \n",
    "round(np.linalg.det(C),1)"
   ]
  },
  {
   "cell_type": "markdown",
   "id": "74134061",
   "metadata": {},
   "source": [
    "### Задание 2"
   ]
  },
  {
   "cell_type": "markdown",
   "id": "8475273c",
   "metadata": {},
   "source": [
    "a) Используем следующее свойство определителя:  \n",
    "\n",
    "**Для двух квадратных матриц одинакового размера**  \n",
    "\n",
    "$det(AB)=detA\\cdot detB$.  \n",
    "\n",
    "Следовательно:  \n",
    "\n",
    "$det(A^2)=det(A\\cdot A)=det(A)\\cdot det(A)=4\\cdot 4=16$  "
   ]
  },
  {
   "cell_type": "markdown",
   "id": "098490de",
   "metadata": {},
   "source": [
    "б) Используем следующее свойство определителя:  \n",
    "\n",
    "**Определитель транспонированной матрицы равен определителю исходной:**  \n",
    "\n",
    "$detA^{T}=detA$.  \n",
    "\n",
    "Следовательно:  \n",
    "\n",
    "$det(A^T)=4$  "
   ]
  },
  {
   "cell_type": "markdown",
   "id": "b476fcce",
   "metadata": {},
   "source": [
    "в) Из свойства определителя:  \n",
    "​\n",
    "**Умножение строки или столбца матрицы на число  𝜆  приведет к умножению определителя матрицы на то же число.**  \n",
    "​\n",
    "Следует, что $det(2A)=2^{n}\\cdot det(A)=2^{n}\\cdot 4$, где $n$ - порядок матрицы $A$.  \n"
   ]
  },
  {
   "cell_type": "markdown",
   "id": "8c0d620a",
   "metadata": {},
   "source": [
    "### Задание 3"
   ]
  },
  {
   "cell_type": "markdown",
   "id": "80195f1f",
   "metadata": {},
   "source": [
    "Поскольку мы можем представить вторую строку данной матрицы $(4, -14, 6)$ через первую её строку $(-2, 7, -3)$ как  \n",
    "\n",
    "$(4, -14, 6)=-2\\cdot (-2, 7, -3)$, т.е. две строки (столбца) матрицы линейно зависимы, а значит её определитель равен $0$, т.е.  \n",
    "\n",
    "такая матрица, согласно определению, является **вырожденной**.  "
   ]
  },
  {
   "cell_type": "code",
   "execution_count": 13,
   "id": "2a94986b",
   "metadata": {},
   "outputs": [
    {
     "data": {
      "text/plain": [
       "0.0"
      ]
     },
     "execution_count": 13,
     "metadata": {},
     "output_type": "execute_result"
    }
   ],
   "source": [
    "arr=np.array([[-2,7,-3],[4,-14,6],[-3,7,13]])\n",
    "np.linalg.det(arr)"
   ]
  },
  {
   "cell_type": "markdown",
   "id": "905ca0b5",
   "metadata": {},
   "source": [
    "### Задание 4"
   ]
  },
  {
   "cell_type": "markdown",
   "id": "725d68f9",
   "metadata": {},
   "source": [
    "а)"
   ]
  },
  {
   "cell_type": "code",
   "execution_count": 17,
   "id": "f74b66ad",
   "metadata": {},
   "outputs": [
    {
     "name": "stdout",
     "output_type": "stream",
     "text": [
      "Ранг матрицы - 2\n"
     ]
    }
   ],
   "source": [
    "arr=([[1,2,3],[1,1,1],[2,3,4]])\n",
    "print(f'Ранг матрицы - {np.linalg.matrix_rank(arr)}')"
   ]
  },
  {
   "cell_type": "markdown",
   "id": "28af64fb",
   "metadata": {},
   "source": [
    "б)"
   ]
  },
  {
   "cell_type": "code",
   "execution_count": 19,
   "id": "1524d500",
   "metadata": {},
   "outputs": [
    {
     "name": "stdout",
     "output_type": "stream",
     "text": [
      "Ранг матрицы - 3\n"
     ]
    }
   ],
   "source": [
    "arr=([[0,0,2,1],[0,0,2,2],[0,0,4,3],[2,3,5,6]])\n",
    "print(f'Ранг матрицы - {np.linalg.matrix_rank(arr)}')"
   ]
  }
 ],
 "metadata": {
  "kernelspec": {
   "display_name": "Python 3 (ipykernel)",
   "language": "python",
   "name": "python3"
  },
  "language_info": {
   "codemirror_mode": {
    "name": "ipython",
    "version": 3
   },
   "file_extension": ".py",
   "mimetype": "text/x-python",
   "name": "python",
   "nbconvert_exporter": "python",
   "pygments_lexer": "ipython3",
   "version": "3.10.4"
  }
 },
 "nbformat": 4,
 "nbformat_minor": 5
}
