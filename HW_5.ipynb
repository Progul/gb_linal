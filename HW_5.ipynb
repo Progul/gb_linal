{
 "cells": [
  {
   "cell_type": "markdown",
   "id": "lesser-understanding",
   "metadata": {},
   "source": [
    "# <center>Практическое задание к уроку 5"
   ]
  },
  {
   "cell_type": "markdown",
   "id": "indirect-database",
   "metadata": {},
   "source": [
    "__1.__ Найти с помощью NumPy SVD для матрицы\n",
    "\n",
    "$\\begin{pmatrix}\n",
    "1 & 2 & 0\\\\ \n",
    "0 & 0 & 5\\\\ \n",
    "3 & -4 & 2\\\\ \n",
    "1 & 6 & 5\\\\ \n",
    "0 & 1 & 0\n",
    "\\end{pmatrix}$.\n"
   ]
  },
  {
   "cell_type": "markdown",
   "id": "stylish-appointment",
   "metadata": {},
   "source": [
    "Используем методы модуля linalg библиотеки  numpy:"
   ]
  },
  {
   "cell_type": "code",
   "execution_count": 16,
   "id": "educated-dinner",
   "metadata": {},
   "outputs": [],
   "source": [
    "import numpy as np\n",
    "np.set_printoptions(precision=2, suppress=True) #устанавливаем параметры вывода чисел с плавающей запятой."
   ]
  },
  {
   "cell_type": "code",
   "execution_count": 10,
   "id": "natural-source",
   "metadata": {},
   "outputs": [],
   "source": [
    "A=np.array([[1,2,0],[0,0,5],[3,-4,2],[1,6,5],[0,1,0]])"
   ]
  },
  {
   "cell_type": "code",
   "execution_count": 11,
   "id": "limited-vault",
   "metadata": {},
   "outputs": [],
   "source": [
    "U, s, W = np.linalg.svd(A)"
   ]
  },
  {
   "cell_type": "code",
   "execution_count": 12,
   "id": "voluntary-soccer",
   "metadata": {},
   "outputs": [],
   "source": [
    "D = np.zeros_like(A, dtype=float)\n",
    "D[np.diag_indices(min(A.shape))] = s"
   ]
  },
  {
   "cell_type": "code",
   "execution_count": 13,
   "id": "mighty-weekend",
   "metadata": {},
   "outputs": [
    {
     "name": "stdout",
     "output_type": "stream",
     "text": [
      "Матрица A:\n",
      "[[ 1  2  0]\n",
      " [ 0  0  5]\n",
      " [ 3 -4  2]\n",
      " [ 1  6  5]\n",
      " [ 0  1  0]]\n",
      "Матрица U:\n",
      "[[ 0.17  0.16 -0.53 -0.8  -0.16]\n",
      " [ 0.39 -0.53  0.61 -0.43  0.03]\n",
      " [-0.14 -0.82 -0.52  0.14  0.07]\n",
      " [ 0.89  0.06 -0.25  0.38 -0.06]\n",
      " [ 0.08  0.11 -0.08 -0.11  0.98]]\n",
      "Матрица D:\n",
      "[[8.82 0.   0.  ]\n",
      " [0.   6.14 0.  ]\n",
      " [0.   0.   2.53]\n",
      " [0.   0.   0.  ]\n",
      " [0.   0.   0.  ]]\n",
      "Матрица V:\n",
      "[[ 0.07 -0.37 -0.93]\n",
      " [ 0.72  0.67 -0.21]\n",
      " [ 0.69 -0.65  0.31]]\n"
     ]
    }
   ],
   "source": [
    "print(f'Матрица A:\\n{A}')\n",
    "print(f'Матрица U:\\n{U}')\n",
    "print(f'Матрица D:\\n{D}')\n",
    "print(f'Матрица V:\\n{W.T}')"
   ]
  },
  {
   "cell_type": "code",
   "execution_count": 14,
   "id": "dynamic-label",
   "metadata": {},
   "outputs": [
    {
     "data": {
      "text/plain": [
       "array([[ 1.,  2.,  0.],\n",
       "       [ 0., -0.,  5.],\n",
       "       [ 3., -4.,  2.],\n",
       "       [ 1.,  6.,  5.],\n",
       "       [-0.,  1.,  0.]])"
      ]
     },
     "execution_count": 14,
     "metadata": {},
     "output_type": "execute_result"
    }
   ],
   "source": [
    "U@D@W"
   ]
  },
  {
   "cell_type": "markdown",
   "id": "floppy-serum",
   "metadata": {},
   "source": [
    "__2.__ Для матрицы из предыдущего задания найти:\n",
    "\n",
    "   а) евклидову норму;\n",
    "    \n",
    "   б) норму Фробениуса."
   ]
  },
  {
   "cell_type": "markdown",
   "id": "equivalent-option",
   "metadata": {},
   "source": [
    "---\n",
    "a) Евклидова норма матрицы равна евклидовой норме диагональной матрицы из ее сингулярных чисел $D$. Максимальное значение полученного отношения будет равно максимальному сингулярному числу $\\mu_{max}$, и, принимая во внимание факт сортировки по убыванию сингулярных чисел, получим\n",
    "\n",
    "$\\left \\| A \\right \\|_{E}=\\mu_{1}\\\\\n",
    "\\Rightarrow \\left \\| A \\right \\|_{E}= 8.82$.  \n",
    "\n",
    "Проверим:"
   ]
  },
  {
   "cell_type": "code",
   "execution_count": 17,
   "id": "unique-fantasy",
   "metadata": {},
   "outputs": [
    {
     "data": {
      "text/plain": [
       "8.824868854820444"
      ]
     },
     "execution_count": 17,
     "metadata": {},
     "output_type": "execute_result"
    }
   ],
   "source": [
    "np.linalg.norm(A, ord=2)"
   ]
  },
  {
   "cell_type": "markdown",
   "id": "integrated-associate",
   "metadata": {},
   "source": [
    "---\n",
    "б)  Норма Фробениуса определяется по формуле:  \n",
    "\n",
    "$\\left \\| A \\right \\|_{F}=\\sqrt{\\sum_{i=1}^{m}\\sum_{j=1}^{n}a_{ij}^{2}}$.  \n",
    "\n",
    "Напишем функцию для нахождения:"
   ]
  },
  {
   "cell_type": "code",
   "execution_count": 19,
   "id": "indonesian-weight",
   "metadata": {},
   "outputs": [
    {
     "name": "stdout",
     "output_type": "stream",
     "text": [
      "Норма фробениуса для матрицы A:\n",
      "11.045361017187261\n"
     ]
    }
   ],
   "source": [
    "def my_frobenius(matrix):\n",
    "    sum_square=0\n",
    "    for i in range(len(matrix)):\n",
    "        for j in range(len(matrix[0])):\n",
    "            sum_square+=matrix[i][j]**2\n",
    "    return np.sqrt(sum_square)\n",
    "\n",
    "print(f'Норма фробениуса для матрицы A:\\n{my_frobenius(A)}')"
   ]
  },
  {
   "cell_type": "markdown",
   "id": "laughing-latin",
   "metadata": {},
   "source": [
    "Кроме того, когда известно сингулярное разложение матрицы, ее норма Фробениуса вычисляется как\n",
    "\n",
    "$\\left \\| A \\right \\|_{F}=\\sqrt{\\sum_{k=1}^{r}\\mu_{k}^{2}}$  \n",
    "\n",
    "найдем:"
   ]
  },
  {
   "cell_type": "code",
   "execution_count": 21,
   "id": "paperback-apparel",
   "metadata": {},
   "outputs": [
    {
     "data": {
      "text/plain": [
       "array([8.82, 6.14, 2.53])"
      ]
     },
     "execution_count": 21,
     "metadata": {},
     "output_type": "execute_result"
    }
   ],
   "source": [
    "U,s,W=np.linalg.svd(A)\n",
    "s"
   ]
  },
  {
   "cell_type": "code",
   "execution_count": 24,
   "id": "quiet-heater",
   "metadata": {},
   "outputs": [
    {
     "name": "stdout",
     "output_type": "stream",
     "text": [
      "Норма фробениуса для матрицы A:\n",
      "11.045361017187261\n"
     ]
    }
   ],
   "source": [
    "frob_norm=np.sqrt(np.sum(s**2))\n",
    "print(f'Норма фробениуса для матрицы A:\\n{frob_norm}')"
   ]
  },
  {
   "cell_type": "markdown",
   "id": "elder-venezuela",
   "metadata": {},
   "source": [
    "Найдем стандартным методом модуля linalg:  "
   ]
  },
  {
   "cell_type": "code",
   "execution_count": 28,
   "id": "varying-desperate",
   "metadata": {},
   "outputs": [
    {
     "name": "stdout",
     "output_type": "stream",
     "text": [
      "Норма фробениуса для матрицы A:\n",
      "11.045361017187261\n"
     ]
    }
   ],
   "source": [
    "print(f\"Норма фробениуса для матрицы A:\\n{np.linalg.norm(A, ord='fro')}\")"
   ]
  },
  {
   "cell_type": "code",
   "execution_count": null,
   "id": "loving-venezuela",
   "metadata": {},
   "outputs": [],
   "source": []
  }
 ],
 "metadata": {
  "kernelspec": {
   "display_name": "Python 3",
   "language": "python",
   "name": "python3"
  },
  "language_info": {
   "codemirror_mode": {
    "name": "ipython",
    "version": 3
   },
   "file_extension": ".py",
   "mimetype": "text/x-python",
   "name": "python",
   "nbconvert_exporter": "python",
   "pygments_lexer": "ipython3",
   "version": "3.10.6 (main, Aug 10 2022, 11:40:04) [GCC 11.3.0]"
  },
  "vscode": {
   "interpreter": {
    "hash": "916dbcbb3f70747c44a77c7bcd40155683ae19c65e1c03b4aa3499c5328201f1"
   }
  }
 },
 "nbformat": 4,
 "nbformat_minor": 5
}
